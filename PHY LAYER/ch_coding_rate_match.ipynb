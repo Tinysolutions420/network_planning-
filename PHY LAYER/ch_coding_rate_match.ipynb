{
 "cells": [
  {
   "cell_type": "code",
   "execution_count": 2,
   "id": "761e7a49-a4ba-4a88-a6a8-705a06e28a0e",
   "metadata": {},
   "outputs": [],
   "source": [
    "import sionna \n",
    "import os\n",
    "import tensorflow as tf\n",
    "import numpy as np"
   ]
  },
  {
   "cell_type": "code",
   "execution_count": 3,
   "id": "319f9f62-abf4-4a7c-82a9-2f0870563180",
   "metadata": {},
   "outputs": [],
   "source": [
    "from sionna.mapping import Constellation, Mapper, Demapper\n",
    "from sionna.fec.polar import PolarEncoder, Polar5GEncoder, PolarSCLDecoder, Polar5GDecoder, PolarSCDecoder\n",
    "from sionna.fec.ldpc import LDPC5GEncoder, LDPC5GDecoder\n",
    "from sionna.fec.polar.utils import generate_5g_ranking, generate_rm_code\n",
    "from sionna.fec.conv import ConvEncoder, ViterbiDecoder, BCJRDecoder\n",
    "from sionna.fec.turbo import TurboEncoder, TurboDecoder\n",
    "from sionna.fec.linear import OSDecoder\n",
    "from sionna.utils import BinarySource, ebnodb2no\n",
    "from sionna.utils.metrics import count_block_errors\n",
    "from sionna.channel import AWGN\n",
    "from sionna.utils.plotting import PlotBER\n",
    "sionna.config.seed = 42"
   ]
  },
  {
   "cell_type": "code",
   "execution_count": 4,
   "id": "d040f844-b901-4a5d-a15b-24ce7145cbc5",
   "metadata": {},
   "outputs": [],
   "source": [
    "import matplotlib.pyplot as plt"
   ]
  },
  {
   "cell_type": "code",
   "execution_count": 5,
   "id": "471552f2-397d-4fb3-9d6d-7f1038f3dff8",
   "metadata": {},
   "outputs": [],
   "source": [
    "class System_Model(tf.keras.Model):\n",
    "    def __init__(self, k, n, num_bits_per_symbol, encoder, decoder, demapping_method='app',\n",
    "                 sim_esno=False, cw_estimates=False):\n",
    "        super().__init__()\n",
    "        self.k = k\n",
    "        self.n = n\n",
    "        self.sim_esno = sim_esno\n",
    "        self.cw_estimates = cw_estimates\n",
    "        self.num_bits_per_symbol = num_bits_per_symbol\n",
    "        self.source = BinarySource()\n",
    "        self.constellation = Constellation('qam', num_bits_per_symbol=self.num_bits_per_symbol)\n",
    "        self.mapper = Mapper(constellation=self.constellation)\n",
    "        self.demapper = Demapper(demapping_method, constellation=self.constellation)\n",
    "        self.channel = AWGN()\n",
    "        self.encoder = encoder\n",
    "        self.decoder = decoder\n",
    "\n",
    "    @tf.function()\n",
    "    def call(self, batch_size, ebno_db):\n",
    "        if self.sim_esno:\n",
    "            no = ebnodb2no(ebno_db, num_bits_per_symbol=1, coderate=1)\n",
    "        else:\n",
    "            no = ebnodb2no(ebno_db, num_bits_per_symbol=self.num_bits_per_symbol,\n",
    "                           coderate=self.k/self.n)\n",
    "        u = self.source([batch_size, self.k])\n",
    "        c = self.encoder(u)\n",
    "        x = self.mapper(c)\n",
    "        y = self.channel([x, no])\n",
    "        llr_ch = self.demapper([y, no])\n",
    "        u_hat = self.decoder(llr_ch)\n",
    "        if self.cw_estimates:\n",
    "            return c, u_hat\n",
    "        return u, u_hat"
   ]
  },
  {
   "cell_type": "code",
   "execution_count": 6,
   "id": "9fc2a959-5ecb-4f76-b59d-1d58d6a066ba",
   "metadata": {},
   "outputs": [
    {
     "name": "stdout",
     "output_type": "stream",
     "text": [
      "WARNING:tensorflow:From C:\\Users\\DELL\\anaconda3\\envs\\sionna_env\\lib\\site-packages\\keras\\src\\backend.py:873: The name tf.get_default_graph is deprecated. Please use tf.compat.v1.get_default_graph instead.\n",
      "\n",
      "Warning: 5G Polar codes use an integrated CRC that cannot be materialized with SC decoding and, thus, causes a degraded performance. Please consider SCL decoding instead.\n"
     ]
    }
   ],
   "source": [
    "## codes for simulation\n",
    "k = 64\n",
    "n = 128\n",
    "codes_under_test = []\n",
    "enc = LDPC5GEncoder(k=k, n=n)\n",
    "dec = LDPC5GDecoder(enc, num_iter=20)\n",
    "name = '5G LDPC BP-20'\n",
    "codes_under_test.append([enc, dec, name])\n",
    "\n",
    "#polar codes\n",
    "enc = Polar5GEncoder(k=k, n=n)\n",
    "dec = Polar5GDecoder(enc, dec_type='SC')\n",
    "name = '5G Polar+ CRC SC'\n",
    "codes_under_test.append([enc, dec, name])\n",
    "\n",
    "#polar using SCL \n",
    "enc = Polar5GEncoder(k=k, n=n)\n",
    "dec = Polar5GDecoder(enc, dec_type='SCL', list_size=8)\n",
    "name = '5G POLAR + CRC SCL-8'\n",
    "codes_under_test.append([enc, dec, name])\n",
    "\n",
    "\n",
    "# non 5G schems\n",
    "#RM codes with SCL\n",
    "f,_,_,_,_ = generate_rm_code(3, 7)\n",
    "enc = PolarEncoder(f, n)\n",
    "dec = PolarSCLDecoder(f,n, list_size=8)\n",
    "name = \"RM read Muller\"\n",
    "codes_under_test.append([enc, dec, name])\n",
    "\n",
    "#conv viterbi decoding \n",
    "enc = ConvEncoder(rate=1/2, constraint_length=8)\n",
    "dec = ViterbiDecoder(gen_poly=enc.gen_poly, method='soft_llr')\n",
    "name = \"Conv. Code Viterbi (constraint length 8)\"\n",
    "codes_under_test.append([enc, dec, name])\n",
    "\n",
    "#turbo codes\n",
    "enc = TurboEncoder(rate=1/2, constraint_length=4, terminate=False)\n",
    "dec = TurboDecoder(enc, num_iter=8)\n",
    "name = 'Turbo codes (len 4)'\n",
    "codes_under_test.append([enc, dec, name])"
   ]
  },
  {
   "cell_type": "code",
   "execution_count": 7,
   "id": "7f3a0d99-cbfd-49ef-beed-d0730c3c1342",
   "metadata": {},
   "outputs": [],
   "source": [
    "# to save and plot the BER simulations\n",
    "ber_plot128 = PlotBER(f'short len code performance (k={k}, n={n})')"
   ]
  },
  {
   "cell_type": "code",
   "execution_count": null,
   "id": "baa11c9d-90c6-474a-b97c-67c9d9ec95b0",
   "metadata": {},
   "outputs": [
    {
     "name": "stdout",
     "output_type": "stream",
     "text": [
      "\n",
      "Running: 5G LDPC BP-20\n",
      "EbNo [dB] |        BER |       BLER |  bit errors |    num bits | block errors |  num blocks | runtime [s] |    status\n",
      "---------------------------------------------------------------------------------------------------------------------------------------\n",
      "      0.0 | 1.6585e-01 | 8.6430e-01 |      106145 |      640000 |         8643 |       10000 |         6.0 |reached target block errors\n",
      "      0.5 | 1.2742e-01 | 7.1230e-01 |       81549 |      640000 |         7123 |       10000 |         2.3 |reached target block errors\n",
      "      1.0 | 8.6655e-02 | 5.0330e-01 |       55459 |      640000 |         5033 |       10000 |         2.5 |reached target block errors\n",
      "      1.5 | 5.0352e-02 | 3.0320e-01 |       32225 |      640000 |         3032 |       10000 |         2.5 |reached target block errors\n",
      "      2.0 | 2.5684e-02 | 1.5460e-01 |       16438 |      640000 |         1546 |       10000 |         2.3 |reached target block errors\n",
      "      2.5 | 1.1028e-02 | 6.8500e-02 |       14116 |     1280000 |         1370 |       20000 |         4.6 |reached target block errors\n",
      "      3.0 | 3.6769e-03 | 2.2540e-02 |       11766 |     3200000 |         1127 |       50000 |        12.3 |reached target block errors\n",
      "      3.5 | 9.0720e-04 | 5.7778e-03 |       10451 |    11520000 |         1040 |      180000 |        43.2 |reached target block errors\n",
      "      4.0 | 2.0358e-04 | 1.3303e-03 |        9902 |    48640000 |         1011 |      760000 |       175.4 |reached target block errors\n",
      "      4.5 | 3.0625e-05 | 1.9800e-04 |        1960 |    64000000 |          198 |     1000000 |       230.6 |reached max iter       \n",
      "\n",
      "Running: 5G Polar+ CRC SC\n",
      "EbNo [dB] |        BER |       BLER |  bit errors |    num bits | block errors |  num blocks | runtime [s] |    status\n",
      "---------------------------------------------------------------------------------------------------------------------------------------\n",
      "      0.0 | 4.0892e-01 | 9.5500e-01 |      261712 |      640000 |         9550 |       10000 |         6.3 |reached target block errors\n",
      "      0.5 | 3.7065e-01 | 8.9720e-01 |      237217 |      640000 |         8972 |       10000 |         0.2 |reached target block errors\n",
      "      1.0 | 3.1120e-01 | 7.9330e-01 |      199165 |      640000 |         7933 |       10000 |         0.2 |reached target block errors\n",
      "      1.5 | 2.4647e-01 | 6.5550e-01 |      157743 |      640000 |         6555 |       10000 |         0.2 |reached target block errors\n",
      "      2.0 | 1.7313e-01 | 4.8340e-01 |      110801 |      640000 |         4834 |       10000 |         0.2 |reached target block errors\n",
      "      2.5 | 1.0472e-01 | 3.0430e-01 |       67019 |      640000 |         3043 |       10000 |         0.2 |reached target block errors\n",
      "      3.0 | 6.0366e-02 | 1.7520e-01 |       38634 |      640000 |         1752 |       10000 |         0.2 |reached target block errors\n",
      "      3.5 | 2.5751e-02 | 7.7900e-02 |       32961 |     1280000 |         1558 |       20000 |         0.3 |reached target block errors\n",
      "      4.0 | 9.5281e-03 | 2.9200e-02 |       24392 |     2560000 |         1168 |       40000 |         0.7 |reached target block errors\n",
      "      4.5 | 3.0899e-03 | 9.3636e-03 |       21753 |     7040000 |         1030 |      110000 |         1.9 |reached target block errors\n",
      "\n",
      "Running: 5G POLAR + CRC SCL-8\n",
      "EbNo [dB] |        BER |       BLER |  bit errors |    num bits | block errors |  num blocks | runtime [s] |    status\n",
      "---------------------------------------------------------------------------------------------------------------------------------------\n",
      "      0.0 | 3.4186e-01 | 7.9810e-01 |      218790 |      640000 |         7981 |       10000 |       257.5 |reached target block errors\n",
      "      0.5 | 2.6526e-01 | 6.4420e-01 |      169766 |      640000 |         6442 |       10000 |       126.6 |reached target block errors\n",
      "      1.0 | 1.7327e-01 | 4.3300e-01 |      110895 |      640000 |         4330 |       10000 |       128.2 |reached target block errors\n",
      "      1.5 | 8.8950e-02 | 2.3300e-01 |       56928 |      640000 |         2330 |       10000 |       127.0 |reached target block errors\n",
      "      2.0 | 3.8095e-02 | 1.0260e-01 |       24381 |      640000 |         1026 |       10000 |      1065.4 |reached target block errors\n",
      "      2.5 | 1.3091e-02 | 3.6067e-02 |       25134 |     1920000 |         1082 |       30000 |       363.9 |reached target block errors\n",
      "      3.0 | 2.7299e-03 | 7.8077e-03 |       22713 |     8320000 |         1015 |      130000 |      1712.5 |reached target block errors\n",
      "      3.5 | 4.5666e-04 | 1.3184e-03 |       22212 |    48640000 |         1002 |      760000 |     11511.5 |reached target block errors\n",
      "      4.0 | 5.0658e-05 | 1.5789e-04 |        1232 |    24320000 |           60 |      380000 |      5293.2 |iter: 37/100\r"
     ]
    }
   ],
   "source": [
    "num_bits_per_symbol = 2\n",
    "ebno_db = np.arange(0,5, 0.5)\n",
    "for code in codes_under_test:\n",
    "    print('\\nRunning: '+ code[2])\n",
    "    model = System_Model(k=k, n=n, num_bits_per_symbol=num_bits_per_symbol,\n",
    "                        encoder=code[0], decoder=code[1])\n",
    "    ber_plot128.simulate(model,\n",
    "                         ebno_dbs=ebno_db,\n",
    "                         legend=code[2],\n",
    "                         max_mc_iter=100,\n",
    "                         num_target_block_errors=1000,\n",
    "                         batch_size=10000,\n",
    "                         soft_estimates=False,\n",
    "                         early_stop=True,\n",
    "                         show_fig=False,\n",
    "                         add_bler=True,\n",
    "                         forward_keyboard_interrupt=True)\n",
    "\n",
    "ber_plot128(ylim=(1e-5, 1), show_bler=False)\n",
    "    "
   ]
  },
  {
   "cell_type": "code",
   "execution_count": null,
   "id": "6cdb165d-c7f0-45fb-868c-44fb6361539c",
   "metadata": {},
   "outputs": [],
   "source": [
    "ber_plot128(ylim=(1e-5, 1), "
   ]
  }
 ],
 "metadata": {
  "kernelspec": {
   "display_name": "sionna_env",
   "language": "python",
   "name": "sionna_env"
  },
  "language_info": {
   "codemirror_mode": {
    "name": "ipython",
    "version": 3
   },
   "file_extension": ".py",
   "mimetype": "text/x-python",
   "name": "python",
   "nbconvert_exporter": "python",
   "pygments_lexer": "ipython3",
   "version": "3.9.21"
  }
 },
 "nbformat": 4,
 "nbformat_minor": 5
}
